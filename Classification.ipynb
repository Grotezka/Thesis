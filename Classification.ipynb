{
 "cells": [
  {
   "cell_type": "code",
   "execution_count": 1,
   "metadata": {},
   "outputs": [],
   "source": [
    "import numpy as np\n",
    "import pandas as pd\n",
    "import statsmodels.api as sm\n",
    "import matplotlib.pyplot as plt"
   ]
  },
  {
   "cell_type": "code",
   "execution_count": 25,
   "metadata": {},
   "outputs": [],
   "source": [
    "News = pd.read_csv('News_proper', index_col = 0)"
   ]
  },
  {
   "cell_type": "code",
   "execution_count": 27,
   "metadata": {},
   "outputs": [],
   "source": [
    "News = News.drop('Words', axis=1)"
   ]
  },
  {
   "cell_type": "code",
   "execution_count": 28,
   "metadata": {},
   "outputs": [
    {
     "data": {
      "text/html": [
       "<div>\n",
       "<style scoped>\n",
       "    .dataframe tbody tr th:only-of-type {\n",
       "        vertical-align: middle;\n",
       "    }\n",
       "\n",
       "    .dataframe tbody tr th {\n",
       "        vertical-align: top;\n",
       "    }\n",
       "\n",
       "    .dataframe thead th {\n",
       "        text-align: right;\n",
       "    }\n",
       "</style>\n",
       "<table border=\"1\" class=\"dataframe\">\n",
       "  <thead>\n",
       "    <tr style=\"text-align: right;\">\n",
       "      <th></th>\n",
       "      <th>Article</th>\n",
       "      <th>ticker</th>\n",
       "      <th>time_tz</th>\n",
       "      <th>valid</th>\n",
       "      <th>start</th>\n",
       "      <th>end</th>\n",
       "      <th>CAR</th>\n",
       "      <th>hour</th>\n",
       "      <th>class</th>\n",
       "      <th>Negative</th>\n",
       "      <th>Neutral</th>\n",
       "      <th>Positive</th>\n",
       "      <th>Sentiment</th>\n",
       "      <th>Score</th>\n",
       "    </tr>\n",
       "  </thead>\n",
       "  <tbody>\n",
       "    <tr>\n",
       "      <th>0</th>\n",
       "      <td>LOS ANGELES (Reuters) - Amazon.com Inc AMZN.O ...</td>\n",
       "      <td>AMZN</td>\n",
       "      <td>2019-11-06 11:43:00-05:00</td>\n",
       "      <td>True</td>\n",
       "      <td>2019-11-06 10:43:00-05:00</td>\n",
       "      <td>2019-11-06 12:43:00-05:00</td>\n",
       "      <td>-0.001852</td>\n",
       "      <td>10</td>\n",
       "      <td>NaN</td>\n",
       "      <td>0.010688</td>\n",
       "      <td>0.807917</td>\n",
       "      <td>0.077167</td>\n",
       "      <td>Neutral</td>\n",
       "      <td>0</td>\n",
       "    </tr>\n",
       "    <tr>\n",
       "      <th>1</th>\n",
       "      <td>NEW DELHI (Reuters) - India's antitrust body h...</td>\n",
       "      <td>AMZN</td>\n",
       "      <td>2019-11-01 10:03:00-04:00</td>\n",
       "      <td>True</td>\n",
       "      <td>2019-11-01 09:03:00-04:00</td>\n",
       "      <td>2019-11-01 11:03:00-04:00</td>\n",
       "      <td>-0.001099</td>\n",
       "      <td>9</td>\n",
       "      <td>NaN</td>\n",
       "      <td>0.020621</td>\n",
       "      <td>0.763345</td>\n",
       "      <td>0.078103</td>\n",
       "      <td>Neutral</td>\n",
       "      <td>0</td>\n",
       "    </tr>\n",
       "    <tr>\n",
       "      <th>2</th>\n",
       "      <td>WASHINGTON (Reuters) - If Amazon.com decides t...</td>\n",
       "      <td>AMZN</td>\n",
       "      <td>2019-10-28 15:34:00-04:00</td>\n",
       "      <td>True</td>\n",
       "      <td>2019-10-28 14:34:00-04:00</td>\n",
       "      <td>2019-10-28 16:34:00-04:00</td>\n",
       "      <td>0.000605</td>\n",
       "      <td>14</td>\n",
       "      <td>NaN</td>\n",
       "      <td>0.033970</td>\n",
       "      <td>0.769364</td>\n",
       "      <td>0.105727</td>\n",
       "      <td>Positive</td>\n",
       "      <td>1</td>\n",
       "    </tr>\n",
       "    <tr>\n",
       "      <th>3</th>\n",
       "      <td>(Reuters) - Amazon.com Inc's AMZN.O firm grip ...</td>\n",
       "      <td>AMZN</td>\n",
       "      <td>2019-10-28 12:31:00-04:00</td>\n",
       "      <td>True</td>\n",
       "      <td>2019-10-28 11:31:00-04:00</td>\n",
       "      <td>2019-10-28 13:31:00-04:00</td>\n",
       "      <td>0.001594</td>\n",
       "      <td>11</td>\n",
       "      <td>NaN</td>\n",
       "      <td>0.014182</td>\n",
       "      <td>0.798227</td>\n",
       "      <td>0.096682</td>\n",
       "      <td>Neutral</td>\n",
       "      <td>0</td>\n",
       "    </tr>\n",
       "    <tr>\n",
       "      <th>4</th>\n",
       "      <td>WASHINGTON (Reuters) - Microsoft Corp MSFT.O h...</td>\n",
       "      <td>AMZN</td>\n",
       "      <td>2019-10-27 12:02:00-04:00</td>\n",
       "      <td>True</td>\n",
       "      <td>2019-10-27 11:02:00-04:00</td>\n",
       "      <td>2019-10-27 13:02:00-04:00</td>\n",
       "      <td>0.000000</td>\n",
       "      <td>11</td>\n",
       "      <td>NaN</td>\n",
       "      <td>0.039538</td>\n",
       "      <td>0.693641</td>\n",
       "      <td>0.087333</td>\n",
       "      <td>Neutral</td>\n",
       "      <td>0</td>\n",
       "    </tr>\n",
       "  </tbody>\n",
       "</table>\n",
       "</div>"
      ],
      "text/plain": [
       "                                             Article ticker  \\\n",
       "0  LOS ANGELES (Reuters) - Amazon.com Inc AMZN.O ...   AMZN   \n",
       "1  NEW DELHI (Reuters) - India's antitrust body h...   AMZN   \n",
       "2  WASHINGTON (Reuters) - If Amazon.com decides t...   AMZN   \n",
       "3  (Reuters) - Amazon.com Inc's AMZN.O firm grip ...   AMZN   \n",
       "4  WASHINGTON (Reuters) - Microsoft Corp MSFT.O h...   AMZN   \n",
       "\n",
       "                     time_tz  valid                      start  \\\n",
       "0  2019-11-06 11:43:00-05:00   True  2019-11-06 10:43:00-05:00   \n",
       "1  2019-11-01 10:03:00-04:00   True  2019-11-01 09:03:00-04:00   \n",
       "2  2019-10-28 15:34:00-04:00   True  2019-10-28 14:34:00-04:00   \n",
       "3  2019-10-28 12:31:00-04:00   True  2019-10-28 11:31:00-04:00   \n",
       "4  2019-10-27 12:02:00-04:00   True  2019-10-27 11:02:00-04:00   \n",
       "\n",
       "                         end       CAR  hour  class  Negative   Neutral  \\\n",
       "0  2019-11-06 12:43:00-05:00 -0.001852    10    NaN  0.010688  0.807917   \n",
       "1  2019-11-01 11:03:00-04:00 -0.001099     9    NaN  0.020621  0.763345   \n",
       "2  2019-10-28 16:34:00-04:00  0.000605    14    NaN  0.033970  0.769364   \n",
       "3  2019-10-28 13:31:00-04:00  0.001594    11    NaN  0.014182  0.798227   \n",
       "4  2019-10-27 13:02:00-04:00  0.000000    11    NaN  0.039538  0.693641   \n",
       "\n",
       "   Positive Sentiment  Score  \n",
       "0  0.077167   Neutral      0  \n",
       "1  0.078103   Neutral      0  \n",
       "2  0.105727  Positive      1  \n",
       "3  0.096682   Neutral      0  \n",
       "4  0.087333   Neutral      0  "
      ]
     },
     "execution_count": 28,
     "metadata": {},
     "output_type": "execute_result"
    }
   ],
   "source": [
    "News.head()"
   ]
  },
  {
   "cell_type": "code",
   "execution_count": 38,
   "metadata": {},
   "outputs": [
    {
     "data": {
      "text/plain": [
       "<matplotlib.lines.Line2D at 0x1f88222df10>"
      ]
     },
     "execution_count": 38,
     "metadata": {},
     "output_type": "execute_result"
    },
    {
     "data": {
      "image/png": "[encoded data removed]",
      "text/plain": [
       "<Figure size 936x648 with 1 Axes>"
      ]
     },
     "metadata": {
      "needs_background": "light"
     },
     "output_type": "display_data"
    }
   ],
   "source": [
    "import seaborn as sns\n",
    "\n",
    "fig, ax = plt.subplots(figsize= (13, 9))\n",
    "sns.distplot(News['CAR'], ax=ax, hist = False, kde = True,\n",
    "                 kde_kws = {'linewidth': 3},\n",
    "                 label = 'Density Estimation for CAR')\n",
    "plt.ylabel(\"Number of News\")\n",
    "plt.axvline(x=0.013, color = 'black')\n",
    "plt.axvline(x=-0.013, color = 'black')"
   ]
  },
  {
   "cell_type": "code",
   "execution_count": 31,
   "metadata": {},
   "outputs": [
    {
     "data": {
      "image/png": "[encoded data removed]",
      "text/plain": [
       "<Figure size 720x720 with 1 Axes>"
      ]
     },
     "metadata": {
      "needs_background": "light"
     },
     "output_type": "display_data"
    }
   ],
   "source": [
    "green_diamond = dict(markerfacecolor='b', marker='D')\n",
    "fig3, ax3 = plt.subplots()\n",
    "fig3.set_size_inches(10, 10)\n",
    "ax3.set_title('Boxplot for CAR')\n",
    "ax3.boxplot(News['CAR'], flierprops=green_diamond)\n",
    "plt.show()"
   ]
  },
  {
   "cell_type": "code",
   "execution_count": 39,
   "metadata": {},
   "outputs": [],
   "source": [
    "conditions = [(News['CAR'] <= -0.005), \n",
    "             (News['CAR'] > -0.005) & (News['CAR'] < 0.005),\n",
    "             (News['CAR'] >= 0.005)]\n",
    "\n",
    "values = [-1, 0, 1]\n",
    "\n",
    "News['class'] = np.select(conditions, values)"
   ]
  },
  {
   "cell_type": "code",
   "execution_count": 45,
   "metadata": {},
   "outputs": [
    {
     "data": {
      "text/html": [
       "<div>\n",
       "<style scoped>\n",
       "    .dataframe tbody tr th:only-of-type {\n",
       "        vertical-align: middle;\n",
       "    }\n",
       "\n",
       "    .dataframe tbody tr th {\n",
       "        vertical-align: top;\n",
       "    }\n",
       "\n",
       "    .dataframe thead th {\n",
       "        text-align: right;\n",
       "    }\n",
       "</style>\n",
       "<table border=\"1\" class=\"dataframe\">\n",
       "  <thead>\n",
       "    <tr style=\"text-align: right;\">\n",
       "      <th></th>\n",
       "      <th></th>\n",
       "      <th>Article</th>\n",
       "    </tr>\n",
       "    <tr>\n",
       "      <th>class</th>\n",
       "      <th>Score</th>\n",
       "      <th></th>\n",
       "    </tr>\n",
       "  </thead>\n",
       "  <tbody>\n",
       "    <tr>\n",
       "      <th rowspan=\"3\" valign=\"top\">-1</th>\n",
       "      <th>-1</th>\n",
       "      <td>5</td>\n",
       "    </tr>\n",
       "    <tr>\n",
       "      <th>0</th>\n",
       "      <td>82</td>\n",
       "    </tr>\n",
       "    <tr>\n",
       "      <th>1</th>\n",
       "      <td>8</td>\n",
       "    </tr>\n",
       "    <tr>\n",
       "      <th rowspan=\"3\" valign=\"top\">0</th>\n",
       "      <th>-1</th>\n",
       "      <td>14</td>\n",
       "    </tr>\n",
       "    <tr>\n",
       "      <th>0</th>\n",
       "      <td>346</td>\n",
       "    </tr>\n",
       "    <tr>\n",
       "      <th>1</th>\n",
       "      <td>54</td>\n",
       "    </tr>\n",
       "    <tr>\n",
       "      <th rowspan=\"3\" valign=\"top\">1</th>\n",
       "      <th>-1</th>\n",
       "      <td>3</td>\n",
       "    </tr>\n",
       "    <tr>\n",
       "      <th>0</th>\n",
       "      <td>64</td>\n",
       "    </tr>\n",
       "    <tr>\n",
       "      <th>1</th>\n",
       "      <td>6</td>\n",
       "    </tr>\n",
       "  </tbody>\n",
       "</table>\n",
       "</div>"
      ],
      "text/plain": [
       "             Article\n",
       "class Score         \n",
       "-1    -1           5\n",
       "       0          82\n",
       "       1           8\n",
       " 0    -1          14\n",
       "       0         346\n",
       "       1          54\n",
       " 1    -1           3\n",
       "       0          64\n",
       "       1           6"
      ]
     },
     "execution_count": 45,
     "metadata": {},
     "output_type": "execute_result"
    }
   ],
   "source": [
    "News[['class', 'Score', 'Article']].groupby(['class', 'Score']).count()"
   ]
  },
  {
   "cell_type": "code",
   "execution_count": 46,
   "metadata": {},
   "outputs": [
    {
     "data": {
      "text/html": [
       "<div>\n",
       "<style scoped>\n",
       "    .dataframe tbody tr th:only-of-type {\n",
       "        vertical-align: middle;\n",
       "    }\n",
       "\n",
       "    .dataframe tbody tr th {\n",
       "        vertical-align: top;\n",
       "    }\n",
       "\n",
       "    .dataframe thead th {\n",
       "        text-align: right;\n",
       "    }\n",
       "</style>\n",
       "<table border=\"1\" class=\"dataframe\">\n",
       "  <thead>\n",
       "    <tr style=\"text-align: right;\">\n",
       "      <th></th>\n",
       "      <th>Score</th>\n",
       "    </tr>\n",
       "    <tr>\n",
       "      <th>class</th>\n",
       "      <th></th>\n",
       "    </tr>\n",
       "  </thead>\n",
       "  <tbody>\n",
       "    <tr>\n",
       "      <th>-1</th>\n",
       "      <td>95</td>\n",
       "    </tr>\n",
       "    <tr>\n",
       "      <th>0</th>\n",
       "      <td>416</td>\n",
       "    </tr>\n",
       "    <tr>\n",
       "      <th>1</th>\n",
       "      <td>73</td>\n",
       "    </tr>\n",
       "  </tbody>\n",
       "</table>\n",
       "</div>"
      ],
      "text/plain": [
       "       Score\n",
       "class       \n",
       "-1        95\n",
       " 0       416\n",
       " 1        73"
      ]
     },
     "execution_count": 46,
     "metadata": {},
     "output_type": "execute_result"
    }
   ],
   "source": [
    "News[['class', 'Score']].groupby('class').count()"
   ]
  },
  {
   "cell_type": "code",
   "execution_count": null,
   "metadata": {},
   "outputs": [],
   "source": []
  }
 ],
 "metadata": {
  "kernelspec": {
   "display_name": "Python 3",
   "language": "python",
   "name": "python3"
  },
  "language_info": {
   "codemirror_mode": {
    "name": "ipython",
    "version": 3
   },
   "file_extension": ".py",
   "mimetype": "text/x-python",
   "name": "python",
   "nbconvert_exporter": "python",
   "pygments_lexer": "ipython3",
   "version": "3.8.3"
  }
 },
 "nbformat": 4,
 "nbformat_minor": 4
}
